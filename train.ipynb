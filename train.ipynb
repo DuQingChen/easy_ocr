{
 "cells": [
  {
   "cell_type": "code",
   "execution_count": 1,
   "metadata": {},
   "outputs": [],
   "source": [
    "import torch\n",
    "import torch.nn as nn\n",
    "from torch import optim\n",
    "from torch.autograd import Variable\n",
    "\n",
    "import model\n",
    "import dataloader\n",
    "import dictionary"
   ]
  },
  {
   "cell_type": "code",
   "execution_count": 2,
   "metadata": {},
   "outputs": [],
   "source": [
    "net = model.CRNN(37, 128)\n",
    "ctc_loss = nn.CTCLoss()"
   ]
  },
  {
   "cell_type": "code",
   "execution_count": 3,
   "metadata": {},
   "outputs": [],
   "source": [
    "def train(epochs, lr, device='cuda'):\n",
    "    net.train().double().to(device), ctc_loss.double().to(device)\n",
    "    optimizer = optim.Adam(net.parameters(), lr=lr)\n",
    "    for epoch in range(epochs):\n",
    "        running_loss = 0.\n",
    "        loader = dataloader.dataloader()\n",
    "        while True:\n",
    "            try:\n",
    "                imgs, targets = loader.__next__()\n",
    "            except Exception as e:\n",
    "                break\n",
    "            b, l_targets = targets.shape\n",
    "            imgs, targets = Variable(torch.from_numpy(imgs)).double().to(device), Variable(torch.from_numpy(targets)).int().to(device)\n",
    "            optimizer.zero_grad()\n",
    "            outputs = net(imgs)\n",
    "            l_outputs, b, p = outputs.size()\n",
    "            loss = ctc_loss(outputs, targets, torch.IntTensor([l_outputs]*b), torch.IntTensor([l_targets]*b))\n",
    "            loss.backward()\n",
    "            running_loss += loss.item()\n",
    "            optimizer.step()\n",
    "        if epoch%10 == 0:\n",
    "            print(epoch, running_loss)"
   ]
  },
  {
   "cell_type": "code",
   "execution_count": 4,
   "metadata": {},
   "outputs": [
    {
     "name": "stdout",
     "output_type": "stream",
     "text": [
      "0 19.56829888204109\n",
      "10 28.51731262108885\n",
      "20 28.432716117989404\n",
      "30 28.40175810073319\n",
      "40 28.363011510441847\n",
      "50 28.326295183179013\n",
      "60 28.29474666250559\n",
      "70 28.268908712662338\n",
      "80 28.248336588443184\n",
      "90 28.23224202195791\n",
      "0 27.184383712609318\n",
      "10 27.151468814219278\n",
      "20 27.092606689752827\n",
      "30 27.202075628975436\n",
      "40 27.440667623263423\n",
      "50 27.871181466220904\n",
      "60 25.514324665007123\n",
      "70 24.264049073534164\n",
      "80 23.135564549832814\n",
      "90 21.428659161932302\n"
     ]
    }
   ],
   "source": [
    "train(100, 0.01)\n",
    "train(100, 0.001)"
   ]
  },
  {
   "cell_type": "code",
   "execution_count": 5,
   "metadata": {},
   "outputs": [
    {
     "name": "stdout",
     "output_type": "stream",
     "text": [
      "0 20.88055322039014\n",
      "10 18.53818881067844\n",
      "20 17.566887394750236\n",
      "30 18.05347306884932\n",
      "40 16.878291167536553\n",
      "50 16.186994505686293\n",
      "60 15.353458867153849\n",
      "70 15.386133299067906\n",
      "80 14.837307205455396\n",
      "90 12.79016388546691\n",
      "0 11.819876263906117\n",
      "10 11.423398110225866\n",
      "20 11.29483609906391\n",
      "30 11.17220044114774\n",
      "40 11.028084812762751\n",
      "50 10.97398414647012\n",
      "60 10.87583885081818\n",
      "70 10.805586277897483\n",
      "80 10.672831263012274\n",
      "90 10.60511974240843\n"
     ]
    }
   ],
   "source": [
    "train(100, 0.001)\n",
    "train(100, 0.0001)"
   ]
  },
  {
   "cell_type": "code",
   "execution_count": 23,
   "metadata": {},
   "outputs": [
    {
     "name": "stdout",
     "output_type": "stream",
     "text": [
      "0 1.6964632715868389\n",
      "10 0.827119262212258\n",
      "20 0.4309869432104593\n",
      "30 2.0067856181550634\n",
      "40 3.0955418439081295\n",
      "50 0.6380744556414274\n",
      "60 0.342501797091384\n",
      "70 0.39936343818976916\n",
      "80 2.062026730768948\n",
      "90 0.21245933028397204\n",
      "0 0.23000829728267402\n",
      "10 0.23113880804283657\n",
      "20 0.12658621828663746\n",
      "30 0.21646170207073398\n",
      "40 0.18225153363915178\n",
      "50 0.11774005785998043\n",
      "60 0.04585517360569485\n",
      "70 0.062342100223253746\n",
      "80 0.10216076462027479\n",
      "90 0.06831715109992811\n"
     ]
    }
   ],
   "source": [
    "train(100, 0.001)\n",
    "train(100, 0.0001)"
   ]
  },
  {
   "cell_type": "code",
   "execution_count": 24,
   "metadata": {},
   "outputs": [],
   "source": [
    "net.cpu()\n",
    "torch.save(net.state_dict(), 'checkpoint.pth')"
   ]
  },
  {
   "cell_type": "raw",
   "metadata": {},
   "source": [
    "test"
   ]
  },
  {
   "cell_type": "code",
   "execution_count": 12,
   "metadata": {},
   "outputs": [],
   "source": [
    "import cv2\n",
    "import matplotlib.pyplot as plt"
   ]
  },
  {
   "cell_type": "code",
   "execution_count": 19,
   "metadata": {},
   "outputs": [],
   "source": [
    "def predict(path, device=\"cuda\"):\n",
    "    net.eval().to(device)\n",
    "    img = cv2.imread(path, 0)\n",
    "    img = dataloader.normal(img)\n",
    "    img = img[None,None,:,:]\n",
    "    img = Variable(torch.from_numpy(img)).double().to(device)\n",
    "    output = net(img).squeeze(1)\n",
    "    prob, idx = output.topk(1)\n",
    "    idx = idx.view(-1).detach().cpu().numpy()\n",
    "    words = list(dictionary.encode(idx))\n",
    "#     print(words)\n",
    "    i = 1\n",
    "    while i<len(words):\n",
    "        if words[i] == words[i-1]:\n",
    "            del words[i]\n",
    "        else:\n",
    "            i += 1\n",
    "    return ''.join(words).replace(' ','')"
   ]
  },
  {
   "cell_type": "code",
   "execution_count": 25,
   "metadata": {},
   "outputs": [
    {
     "name": "stdout",
     "output_type": "stream",
     "text": [
      "target 06\n",
      "predict 0m\n",
      "-----------\n",
      "target 0r\n",
      "predict 0w\n",
      "-----------\n",
      "target 1q\n",
      "predict 1d\n",
      "-----------\n",
      "target 2d\n",
      "predict 2f\n",
      "-----------\n",
      "target 2p\n",
      "predict 2w\n",
      "-----------\n",
      "target 3n\n",
      "predict 3h\n",
      "-----------\n",
      "target 6x\n",
      "predict 6x\n",
      "-----------\n",
      "target 9f\n",
      "predict 9f\n",
      "-----------\n",
      "target a4\n",
      "predict a4\n",
      "-----------\n",
      "target d5\n",
      "predict d5\n",
      "-----------\n",
      "target eu\n",
      "predict eu\n",
      "-----------\n",
      "target jh\n",
      "predict jh\n",
      "-----------\n",
      "target k9\n",
      "predict k9\n",
      "-----------\n",
      "target kp\n",
      "predict kp\n",
      "-----------\n",
      "target m6\n",
      "predict m6\n",
      "-----------\n",
      "target me\n",
      "predict me\n",
      "-----------\n",
      "target mw\n",
      "predict mw\n",
      "-----------\n",
      "target pf\n",
      "predict pf\n",
      "-----------\n",
      "target qu\n",
      "predict qu\n",
      "-----------\n",
      "target r5\n",
      "predict 5\n",
      "-----------\n",
      "target rf\n",
      "predict rf\n",
      "-----------\n",
      "target tr\n",
      "predict trw\n",
      "-----------\n",
      "target wm\n",
      "predict wm\n",
      "-----------\n",
      "target xp\n",
      "predict xp\n",
      "-----------\n"
     ]
    }
   ],
   "source": [
    "import os\n",
    "root_dir = 'test_img/2/'\n",
    "paths = os.listdir(root_dir)\n",
    "for path in paths:\n",
    "    print('target',path.split('_')[0])\n",
    "    path = root_dir+path\n",
    "    words = predict(path)\n",
    "    print('predict',words)\n",
    "    print('-----------')"
   ]
  },
  {
   "cell_type": "code",
   "execution_count": 27,
   "metadata": {},
   "outputs": [
    {
     "name": "stdout",
     "output_type": "stream",
     "text": [
      "target 0i6\n",
      "predict 0i6\n",
      "-----------\n",
      "target 0uk\n",
      "predict 0uk\n",
      "-----------\n",
      "target 32c\n",
      "predict 32c\n",
      "-----------\n",
      "target 72z\n",
      "predict 72z\n",
      "-----------\n",
      "target 9u2\n",
      "predict 9u2\n",
      "-----------\n",
      "target a1e\n",
      "predict a1e\n",
      "-----------\n",
      "target c1m\n",
      "predict c1m\n",
      "-----------\n",
      "target ckw\n",
      "predict ckw\n",
      "-----------\n",
      "target dsf\n",
      "predict c6\n",
      "-----------\n",
      "target ib4\n",
      "predict pf\n",
      "-----------\n",
      "target mgs\n",
      "predict my\n",
      "-----------\n",
      "target n8b\n",
      "predict api\n",
      "-----------\n",
      "target njk\n",
      "predict 0ukx\n",
      "-----------\n",
      "target rkc\n",
      "predict tpf\n",
      "-----------\n"
     ]
    }
   ],
   "source": [
    "root_dir = 'test_img/3/'\n",
    "paths = os.listdir(root_dir)\n",
    "for path in paths:\n",
    "    print('target',path.split('_')[0])\n",
    "    path = root_dir+path\n",
    "    words = predict(path)\n",
    "    print('predict',words)\n",
    "    print('-----------')"
   ]
  },
  {
   "cell_type": "code",
   "execution_count": 28,
   "metadata": {},
   "outputs": [
    {
     "name": "stdout",
     "output_type": "stream",
     "text": [
      "target 1oev\n",
      "predict 1oev\n",
      "-----------\n",
      "target 2kvf\n",
      "predict 2kvf\n",
      "-----------\n",
      "target 4pfo\n",
      "predict 4pfo\n",
      "-----------\n",
      "target 52ie\n",
      "predict 52ie\n",
      "-----------\n",
      "target 5816\n",
      "predict 5816\n",
      "-----------\n",
      "target 63lu\n",
      "predict 63lu\n",
      "-----------\n",
      "target 6jz9\n",
      "predict 6jz9\n",
      "-----------\n",
      "target 6zp7\n",
      "predict 6zp7\n",
      "-----------\n",
      "target 9egm\n",
      "predict 9em\n",
      "-----------\n",
      "target a2yv\n",
      "predict a2y\n",
      "-----------\n",
      "target anth\n",
      "predict cfh\n",
      "-----------\n",
      "target b8p2\n",
      "predict b8pf\n",
      "-----------\n",
      "target bjka\n",
      "predict bjkpa\n",
      "-----------\n",
      "target e5ia\n",
      "predict e3m\n",
      "-----------\n",
      "target jqx2\n",
      "predict jqxp2\n",
      "-----------\n",
      "target kjpi\n",
      "predict kjpw\n",
      "-----------\n",
      "target kxpf\n",
      "predict kxpf\n",
      "-----------\n",
      "target m3gs\n",
      "predict ms\n",
      "-----------\n",
      "target p9oy\n",
      "predict p9oy\n",
      "-----------\n",
      "target tl0a\n",
      "predict t0a\n",
      "-----------\n",
      "target u3gy\n",
      "predict u3g\n",
      "-----------\n",
      "target vcem\n",
      "predict vizm\n",
      "-----------\n",
      "target vh94\n",
      "predict vo4\n",
      "-----------\n",
      "target vhmd\n",
      "predict vmd\n",
      "-----------\n",
      "target x1yf\n",
      "predict xpaf\n",
      "-----------\n",
      "target yum5\n",
      "predict a8xpev\n",
      "-----------\n"
     ]
    }
   ],
   "source": [
    "root_dir = 'test_img/4/'\n",
    "paths = os.listdir(root_dir)\n",
    "for path in paths:\n",
    "    print('target',path.split('_')[0])\n",
    "    path = root_dir+path\n",
    "    words = predict(path)\n",
    "    print('predict',words)\n",
    "    print('-----------')"
   ]
  },
  {
   "cell_type": "code",
   "execution_count": null,
   "metadata": {},
   "outputs": [],
   "source": []
  }
 ],
 "metadata": {
  "kernelspec": {
   "display_name": "Python 3",
   "language": "python",
   "name": "python3"
  },
  "language_info": {
   "codemirror_mode": {
    "name": "ipython",
    "version": 3
   },
   "file_extension": ".py",
   "mimetype": "text/x-python",
   "name": "python",
   "nbconvert_exporter": "python",
   "pygments_lexer": "ipython3",
   "version": "3.6.5"
  }
 },
 "nbformat": 4,
 "nbformat_minor": 2
}
